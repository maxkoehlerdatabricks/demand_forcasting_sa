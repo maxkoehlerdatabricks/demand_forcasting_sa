{
 "cells": [
  {
   "cell_type": "markdown",
   "metadata": {
    "application/vnd.databricks.v1+cell": {
     "cellMetadata": {
      "byteLimit": 2048000,
      "rowLimit": 10000
     },
     "inputWidgets": {},
     "nuid": "7b22d0cc-eea5-4972-97ab-3644ce3f6423",
     "showTitle": false,
     "tableResultSettingsMap": {},
     "title": ""
    }
   },
   "source": [
    "This notebook is tested on a serverless DBSQL cluster. Use an interactive cluster to create the widgets first and then switch to DBSQL."
   ]
  },
  {
   "cell_type": "markdown",
   "metadata": {
    "application/vnd.databricks.v1+cell": {
     "cellMetadata": {
      "byteLimit": 2048000,
      "rowLimit": 10000
     },
     "inputWidgets": {},
     "nuid": "6adddbb7-c3a7-4a0c-8c92-4a7a4494692c",
     "showTitle": false,
     "tableResultSettingsMap": {},
     "title": ""
    }
   },
   "source": [
    "# Fine Grained Demand Forecasting"
   ]
  },
  {
   "cell_type": "markdown",
   "metadata": {
    "application/vnd.databricks.v1+cell": {
     "cellMetadata": {
      "byteLimit": 2048000,
      "rowLimit": 10000
     },
     "inputWidgets": {},
     "nuid": "fd98776a-af0b-47b4-be95-6eac6bc5d85a",
     "showTitle": false,
     "tableResultSettingsMap": {},
     "title": ""
    }
   },
   "source": [
    "*Prerequisite: Make sure to run 01_Introduction_And_Setup before running this notebook.*\n",
    "\n",
    "In this notebook we use `AI_Forecast()` to forecast the SKU level demand\n",
    "\n",
    "Key highlights for this notebook:\n",
    "- `AI_Forecast()` is used to perform forecasting on time series data.   "
   ]
  },
  {
   "cell_type": "code",
   "execution_count": 0,
   "metadata": {
    "application/vnd.databricks.v1+cell": {
     "cellMetadata": {
      "byteLimit": 2048000,
      "rowLimit": 10000
     },
     "inputWidgets": {},
     "nuid": "178d584b-d39d-4db0-81e9-0701858b64de",
     "showTitle": false,
     "tableResultSettingsMap": {},
     "title": ""
    }
   },
   "outputs": [],
   "source": [
    "%sql\n",
    "--CREATE THIS ON A INTERACTIVE CLUSTER FIRST\n",
    "--CREATE WIDGET TEXT catalogName DEFAULT \"maxkoehler_demos\";\n",
    "--CREATE WIDGET TEXT dbName DEFAULT \"demand_db\";"
   ]
  },
  {
   "cell_type": "code",
   "execution_count": 0,
   "metadata": {
    "application/vnd.databricks.v1+cell": {
     "cellMetadata": {
      "byteLimit": 2048000,
      "implicitDf": true,
      "rowLimit": 10000
     },
     "inputWidgets": {},
     "nuid": "3abb7091-6177-4a52-9dcd-4abde0a6b6e3",
     "showTitle": false,
     "tableResultSettingsMap": {},
     "title": ""
    }
   },
   "outputs": [],
   "source": [
    "%sql\n",
    "USE CATALOG IDENTIFIER(:catalogName);\n",
    "USE SCHEMA IDENTIFIER(:dbName);"
   ]
  },
  {
   "cell_type": "markdown",
   "metadata": {
    "application/vnd.databricks.v1+cell": {
     "cellMetadata": {
      "byteLimit": 2048000,
      "rowLimit": 10000
     },
     "inputWidgets": {},
     "nuid": "58c3d157-f12a-42ab-8c33-5273a779d540",
     "showTitle": false,
     "tableResultSettingsMap": {},
     "title": ""
    }
   },
   "source": [
    "\n",
    "## Using Databricks SQL AI Forecast Function\n",
    "`AI_Forecast()` is a table-valued function designed to extrapolate time series data into the future\n",
    "\n",
    "[AI_Forecast Reference](http://docs.databricks.com/aws/en/sql/language-manual/functions/ai_forecast)\n",
    "\n",
    "The `AI_Forecast()` function uses a forecasting procedure described as a *prophet-like piecewise linear and seasonal model*. This model incorporates seasonality and assumes a linear trend over time.\n",
    "\n",
    "At the moment of writing this it, is the only supported forecasting method currently available for this function.\n"
   ]
  },
  {
   "cell_type": "markdown",
   "metadata": {
    "application/vnd.databricks.v1+cell": {
     "cellMetadata": {
      "byteLimit": 2048000,
      "rowLimit": 10000
     },
     "inputWidgets": {},
     "nuid": "9882a8be-9869-41ce-a3fa-65dee764f487",
     "showTitle": false,
     "tableResultSettingsMap": {},
     "title": ""
    }
   },
   "source": [
    "###Check AI_Forecast() Function Capabilities\n",
    "Using `AI_Forecast()` Function to forecast historical data for one SKU to show forecast quality for a specific SKU. "
   ]
  },
  {
   "cell_type": "code",
   "execution_count": 0,
   "metadata": {
    "application/vnd.databricks.v1+cell": {
     "cellMetadata": {
      "byteLimit": 2048000,
      "implicitDf": true,
      "rowLimit": 10000
     },
     "inputWidgets": {},
     "nuid": "cc1bba9d-f418-4195-96d9-1ab85dbaf207",
     "showTitle": false,
     "tableResultSettingsMap": {},
     "title": ""
    }
   },
   "outputs": [],
   "source": [
    "%sql\n",
    "WITH input_data AS (\n",
    "  SELECT Date, Demand, SKU FROM part_level_demand\n",
    "  WHERE SKU = (SELECT SKU FROM part_level_demand LIMIT 1) \n",
    "  AND Date <= (SELECT DATE_ADD(MIN(Date), 365*2) FROM part_level_demand)\n",
    ")\n",
    "SELECT forecast.Date, forecast.SKU, Demand, Demand_Forecast FROM AI_FORECAST(\n",
    "    TABLE(input_data),\n",
    "    horizon => DATE_ADD(DAY, 40, (SELECT MAX(Date) FROM part_level_demand)) ,\n",
    "    time_col => 'Date',\n",
    "    value_col => 'Demand',\n",
    "    group_col => 'SKU',\n",
    "    frequency => 'week',\n",
    "    parameters => '{ \"global_floor\": 0, \"yearly_order\": 12 }'\n",
    ") AS forecast\n",
    "LEFT JOIN part_level_demand AS demand\n",
    "ON forecast.Date = Demand.Date AND forecast.SKU = demand.SKU \n",
    "ORDER BY Date ASC"
   ]
  },
  {
   "cell_type": "markdown",
   "metadata": {
    "application/vnd.databricks.v1+cell": {
     "cellMetadata": {
      "byteLimit": 2048000,
      "rowLimit": 10000
     },
     "inputWidgets": {},
     "nuid": "1bee9c75-0c71-4e7d-983f-d53897eb9f7c",
     "showTitle": false,
     "tableResultSettingsMap": {},
     "title": ""
    }
   },
   "source": [
    "## Perform demand forecasts using AI_Forecast() function\n",
    "\n",
    "Apply the `AI_Forecast()` function to our whole dataset to generate demand forecasts for the next 40 days and store the results into a delta table."
   ]
  },
  {
   "cell_type": "code",
   "execution_count": 0,
   "metadata": {
    "application/vnd.databricks.v1+cell": {
     "cellMetadata": {
      "byteLimit": 2048000,
      "implicitDf": true,
      "rowLimit": 10000
     },
     "inputWidgets": {},
     "nuid": "1752db06-3cbe-46f6-a2b0-4d20332d5b62",
     "showTitle": false,
     "tableResultSettingsMap": {},
     "title": ""
    }
   },
   "outputs": [],
   "source": [
    "%sql\n",
    "CREATE OR REPLACE TABLE part_level_demand_with_forecasts AS (\n",
    "SELECT forecast.Date, forecast.SKU, demand.Product, forecast.Demand_Forecast AS Demand, TRUE AS is_forecast FROM AI_FORECAST(\n",
    "    TABLE(SELECT Date, Demand, SKU FROM part_level_demand),\n",
    "    horizon => DATE_ADD(DAY, 90, (SELECT MAX(Date) FROM part_level_demand)),\n",
    "    time_col => 'Date',\n",
    "    value_col => 'Demand',\n",
    "    group_col => 'SKU',\n",
    "    frequency => 'week',\n",
    "    parameters => '{ \"global_floor\": 0, \"yearly_order\": 12 }'\n",
    ") as forecast\n",
    "LEFT JOIN (SELECT DISTINCT SKU, Product FROM part_level_demand) AS demand\n",
    "ON forecast.SKU = demand.SKU\n",
    "UNION ALL \n",
    "SELECT Date, SKU, Product, Demand, FALSE as is_forecast FROM part_level_demand\n",
    "ORDER BY SKU, Date\n",
    ")"
   ]
  },
  {
   "cell_type": "code",
   "execution_count": 0,
   "metadata": {
    "application/vnd.databricks.v1+cell": {
     "cellMetadata": {
      "byteLimit": 2048000,
      "implicitDf": true,
      "rowLimit": 10000
     },
     "inputWidgets": {},
     "nuid": "544e1089-dc54-404f-801c-d50e87fa72ba",
     "showTitle": false,
     "tableResultSettingsMap": {},
     "title": ""
    }
   },
   "outputs": [],
   "source": [
    "%sql\n",
    "SELECT * FROM part_level_demand_with_forecasts;"
   ]
  }
 ],
 "metadata": {
  "application/vnd.databricks.v1+notebook": {
   "computePreferences": {
    "hardware": {
     "accelerator": null,
     "gpuPoolId": null,
     "memory": null
    }
   },
   "dashboards": [],
   "environmentMetadata": {
    "base_environment": "",
    "environment_version": "3"
   },
   "inputWidgetPreferences": null,
   "language": "python",
   "notebookMetadata": {
    "mostRecentlyExecutedCommandWithImplicitDF": {
     "commandId": -1,
     "dataframes": [
      "_sqldf"
     ]
    },
    "pythonIndentUnit": 2
   },
   "notebookName": "02_Fine_Grained_Demand_Forecasting_AI_Forecast",
   "widgets": {
    "catalogName": {
     "currentValue": "maxkoehler_demos",
     "nuid": "65357cc9-421a-487c-b17b-e6073ab2f919",
     "typedWidgetInfo": {
      "autoCreated": false,
      "defaultValue": "maxkoehler_demos",
      "label": null,
      "name": "catalogName",
      "options": {
       "widgetDisplayType": "Text",
       "validationRegex": null
      },
      "parameterDataType": "String"
     },
     "widgetInfo": {
      "widgetType": "text",
      "defaultValue": "maxkoehler_demos",
      "label": null,
      "name": "catalogName",
      "options": {
       "widgetType": "text",
       "autoCreated": null,
       "validationRegex": null
      }
     }
    },
    "dbName": {
     "currentValue": "demand_db",
     "nuid": "f5336620-9318-43b1-a3d2-0fe92b54e0c6",
     "typedWidgetInfo": {
      "autoCreated": false,
      "defaultValue": "demand_db",
      "label": null,
      "name": "dbName",
      "options": {
       "widgetDisplayType": "Text",
       "validationRegex": null
      },
      "parameterDataType": "String"
     },
     "widgetInfo": {
      "widgetType": "text",
      "defaultValue": "demand_db",
      "label": null,
      "name": "dbName",
      "options": {
       "widgetType": "text",
       "autoCreated": null,
       "validationRegex": null
      }
     }
    }
   }
  },
  "language_info": {
   "name": "python"
  }
 },
 "nbformat": 4,
 "nbformat_minor": 0
}
