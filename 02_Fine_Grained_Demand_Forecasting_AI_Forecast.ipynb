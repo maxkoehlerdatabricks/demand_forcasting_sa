{
 "cells": [
  {
   "cell_type": "markdown",
   "metadata": {
    "application/vnd.databricks.v1+cell": {
     "cellMetadata": {},
     "inputWidgets": {},
     "nuid": "f8a717ce-4b30-4836-a318-74bf6b34f9f8",
     "showTitle": false,
     "tableResultSettingsMap": {},
     "title": ""
    }
   },
   "source": [
    "# Does not work properly -> Only linear forecast ⚠️ "
   ]
  },
  {
   "cell_type": "markdown",
   "metadata": {
    "application/vnd.databricks.v1+cell": {
     "cellMetadata": {},
     "inputWidgets": {},
     "nuid": "c6968bd6-c3ba-4f17-b2c7-def7fab29139",
     "showTitle": false,
     "tableResultSettingsMap": {},
     "title": ""
    }
   },
   "source": [
    "# Fine Grained Demand Forecasting"
   ]
  },
  {
   "cell_type": "markdown",
   "metadata": {
    "application/vnd.databricks.v1+cell": {
     "cellMetadata": {},
     "inputWidgets": {},
     "nuid": "6d2f6ae6-53be-4572-9a19-b818034069ca",
     "showTitle": false,
     "tableResultSettingsMap": {},
     "title": ""
    }
   },
   "source": [
    "*Prerequisite: Make sure to run 01_Introduction_And_Setup before running this notebook.*\n",
    "\n",
    "In this notebook we first find an appropriate time series model and then apply that very same approach to train multiple models in parallel with great speed and cost-effectiveness.  \n",
    "\n",
    "Key highlights for this notebook:\n",
    "- Use Databricks' collaborative and interactive notebook environment to find an appropriate time series mdoel\n",
    "- Pandas UDFs (user-defined functions) can take your single-node data science code, and distribute it across different keys (e.g. SKU)  \n",
    "- Hyperopt can also perform hyperparameter tuning from within a Pandas UDF  "
   ]
  },
  {
   "cell_type": "code",
   "execution_count": 0,
   "metadata": {
    "application/vnd.databricks.v1+cell": {
     "cellMetadata": {},
     "inputWidgets": {},
     "nuid": "3934724b-a5ee-4f99-b4d0-51b43772d4e0",
     "showTitle": false,
     "tableResultSettingsMap": {},
     "title": ""
    }
   },
   "outputs": [],
   "source": [
    "#If True, all output files are in user specific databases, If False, a global database for the report is used\n",
    "#user_based_data = True"
   ]
  },
  {
   "cell_type": "code",
   "execution_count": 0,
   "metadata": {
    "application/vnd.databricks.v1+cell": {
     "cellMetadata": {},
     "inputWidgets": {},
     "nuid": "aaf13c26-7946-4b1b-96e7-47b4ad752520",
     "showTitle": false,
     "tableResultSettingsMap": {},
     "title": ""
    }
   },
   "outputs": [],
   "source": [
    "# %run ./_resources_outside/00-global-setup $reset_all_data=false $db_prefix=demand_level_forecasting"
   ]
  },
  {
   "cell_type": "code",
   "execution_count": 0,
   "metadata": {
    "application/vnd.databricks.v1+cell": {
     "cellMetadata": {
      "byteLimit": 2048000,
      "rowLimit": 10000
     },
     "inputWidgets": {},
     "nuid": "b34f90b7-2108-46d1-b326-9cdb2e98e722",
     "showTitle": false,
     "tableResultSettingsMap": {},
     "title": ""
    }
   },
   "outputs": [],
   "source": [
    "dbutils.widgets.dropdown('reset_all_data', 'false', ['true', 'false'], 'Reset all data')\n",
    "dbutils.widgets.text('catalogName',  'maxkoehler_demos' , 'Catalog Name')\n",
    "dbutils.widgets.text('dbName',  'demand_db' , 'Database Name')"
   ]
  },
  {
   "cell_type": "code",
   "execution_count": 0,
   "metadata": {
    "application/vnd.databricks.v1+cell": {
     "cellMetadata": {
      "byteLimit": 2048000,
      "rowLimit": 10000
     },
     "inputWidgets": {},
     "nuid": "c81ee97c-fe4f-47d3-94f2-1e55d9d7ca68",
     "showTitle": false,
     "tableResultSettingsMap": {},
     "title": ""
    }
   },
   "outputs": [],
   "source": [
    "catalogName = dbutils.widgets.get('catalogName')\n",
    "dbName = dbutils.widgets.get('dbName')\n",
    "reset_all_data = dbutils.widgets.get('reset_all_data') == 'true'"
   ]
  },
  {
   "cell_type": "code",
   "execution_count": 0,
   "metadata": {
    "application/vnd.databricks.v1+cell": {
     "cellMetadata": {},
     "inputWidgets": {},
     "nuid": "68e2f39d-66bf-4335-8e9f-405eedae1a99",
     "showTitle": false,
     "tableResultSettingsMap": {},
     "title": ""
    }
   },
   "outputs": [],
   "source": [
    "%run ./_resources/00-setup $reset_all_data=false $catalogName=$catalogName $dbName=$dbName "
   ]
  },
  {
   "cell_type": "markdown",
   "metadata": {
    "application/vnd.databricks.v1+cell": {
     "cellMetadata": {},
     "inputWidgets": {},
     "nuid": "aeefb34f-d634-4a92-bef8-9da779586614",
     "showTitle": false,
     "tableResultSettingsMap": {},
     "title": ""
    }
   },
   "source": [
    "\n",
    "## Using Databricks SQL AI Forecast Function\n",
    "ai_forecast() is a table-valued function designed to extrapolate time series data into the future\n",
    "\n",
    "[AI_Forecast Reference](http://docs.databricks.com/aws/en/sql/language-manual/functions/ai_forecast)\n"
   ]
  },
  {
   "cell_type": "markdown",
   "metadata": {
    "application/vnd.databricks.v1+cell": {
     "cellMetadata": {},
     "inputWidgets": {},
     "nuid": "0b920696-b36b-4799-9b90-62055a0b48e9",
     "showTitle": false,
     "tableResultSettingsMap": {},
     "title": ""
    }
   },
   "source": [
    "####Requirement\n",
    "- Pro or Serverless SQL warehouse\n",
    "- In Databricks Runtime 15.1 and above, this function is supported in Databricks notebooks, including notebooks that are run as a task in a Databricks workflow.\n",
    "- For batch inference workloads, Databricks recommends Databricks Runtime 15.4 ML LTS for improved performance."
   ]
  },
  {
   "cell_type": "markdown",
   "metadata": {
    "application/vnd.databricks.v1+cell": {
     "cellMetadata": {},
     "inputWidgets": {},
     "nuid": "f3c01b17-8a1e-4fc4-ad1e-32877c5bd211",
     "showTitle": false,
     "tableResultSettingsMap": {},
     "title": ""
    }
   },
   "source": [
    "Comment Patrick: Only worked for me with using SQL Serverless Warehouse. With normal Serverless failed with FEATURE NOT ENABLED error"
   ]
  },
  {
   "cell_type": "markdown",
   "metadata": {
    "application/vnd.databricks.v1+cell": {
     "cellMetadata": {},
     "inputWidgets": {},
     "nuid": "6e91408d-ed75-4379-91eb-dea785bc0a6e",
     "showTitle": false,
     "tableResultSettingsMap": {},
     "title": ""
    }
   },
   "source": [
    "###Check AI_Forecast() Function Capabilities\n",
    "Using `AI_Forecast()` Function to forecast historical data for one SKU to show forecast quality "
   ]
  },
  {
   "cell_type": "code",
   "execution_count": 0,
   "metadata": {
    "application/vnd.databricks.v1+cell": {
     "cellMetadata": {
      "byteLimit": 2048000,
      "rowLimit": 10000
     },
     "inputWidgets": {},
     "nuid": "0a0935f8-c66c-4ba7-aeb4-779e95051e25",
     "showTitle": false,
     "tableResultSettingsMap": {},
     "title": ""
    }
   },
   "outputs": [
    {
     "output_type": "display_data",
     "data": {
      "text/plain": [
       "Databricks visualization. Run in Databricks to view."
      ]
     },
     "metadata": {
      "application/vnd.databricks.v1.subcommand+json": {
       "baseErrorDetails": null,
       "bindings": {
        "catalogName": "maxkoehler_demos",
        "dbName": "demand_db"
       },
       "collapsed": false,
       "command": "%sql WITH q AS (WITH input_data AS (\n  SELECT Date, Demand, SKU FROM ${catalogName}.${dbName}.part_level_demand\n  WHERE SKU = (SELECT SKU FROM ${catalogName}.${dbName}.part_level_demand LIMIT 1) \n  AND Date <= (SELECT DATE_ADD(MIN(Date), 365*2) FROM ${catalogName}.${dbName}.part_level_demand)\n)\nSELECT forecast.Date, forecast.SKU, Demand, Demand_Forecast FROM AI_FORECAST(\n    TABLE(input_data),\n    horizon => DATE_ADD(DAY, 40, (SELECT MAX(Date) FROM ${catalogName}.${dbName}.part_level_demand)) ,\n    time_col => 'Date',\n    value_col => 'Demand',\n    group_col => 'SKU',\n    frequency => 'week',\n    parameters => '{ \"global_floor\": 0, \"yearly_order\": 12 }'\n) AS forecast\nLEFT JOIN ${catalogName}.${dbName}.part_level_demand AS demand\nON forecast.Date = Demand.Date AND forecast.SKU = demand.SKU \nORDER BY Date ASC) SELECT `Date`,SUM(`Demand`) `column_20467c69189`,SUM(`Demand_Forecast`) `column_20467c69192` FROM q GROUP BY `Date`",
       "commandTitle": "Visualization 1",
       "commandType": "auto",
       "commandVersion": 0,
       "commentThread": [],
       "commentsVisible": false,
       "contentSha256Hex": null,
       "customPlotOptions": {
        "redashChart": [
         {
          "key": "type",
          "value": "CHART"
         },
         {
          "key": "options",
          "value": {
           "alignYAxesAtZero": true,
           "coefficient": 1,
           "columnConfigurationMap": {
            "x": {
             "column": "Date",
             "id": "column_20467c69186"
            },
            "y": [
             {
              "column": "Demand",
              "id": "column_20467c69189",
              "transform": "SUM"
             },
             {
              "column": "Demand_Forecast",
              "id": "column_20467c69192",
              "transform": "SUM"
             }
            ]
           },
           "dateTimeFormat": "DD/MM/YYYY HH:mm",
           "direction": {
            "type": "counterclockwise"
           },
           "error_y": {
            "type": "data",
            "visible": true
           },
           "globalSeriesType": "line",
           "isAggregationOn": true,
           "legend": {
            "traceorder": "normal"
           },
           "missingValuesAsZero": false,
           "numberFormat": "0,0.[00000]",
           "percentFormat": "0[.]00%",
           "series": {
            "error_y": {
             "type": "data",
             "visible": true
            },
            "stacking": null
           },
           "seriesOptions": {
            "column_20467c69189": {
             "type": "line",
             "yAxis": 0
            },
            "column_20467c69192": {
             "type": "line",
             "yAxis": 0
            }
           },
           "showDataLabels": false,
           "sizemode": "diameter",
           "sortX": true,
           "sortY": true,
           "swappedAxes": false,
           "textFormat": "",
           "useAggregationsUi": true,
           "valuesOptions": {},
           "version": 2,
           "xAxis": {
            "labels": {
             "enabled": true
            },
            "type": "-"
           },
           "yAxis": [
            {
             "type": "-"
            },
            {
             "opposite": true,
             "type": "-"
            }
           ]
          }
         }
        ]
       },
       "datasetPreviewNameToCmdIdMap": {},
       "diffDeletes": [],
       "diffInserts": [],
       "displayType": "redashChart",
       "error": null,
       "errorDetails": null,
       "errorSummary": null,
       "errorTraceType": null,
       "finishTime": 0,
       "globalVars": {},
       "guid": "",
       "height": "auto",
       "hideCommandCode": false,
       "hideCommandResult": false,
       "iPythonMetadata": null,
       "inputWidgets": {},
       "isLockedInExamMode": false,
       "latestUser": "a user",
       "latestUserId": null,
       "listResultMetadata": null,
       "metadata": {},
       "nuid": "1c3d7dae-c8eb-4b4a-bbdb-a9d8ae0818e1",
       "origId": 0,
       "parentHierarchy": [],
       "pivotAggregation": null,
       "pivotColumns": null,
       "position": 15.0,
       "resultDbfsErrorMessage": null,
       "resultDbfsStatus": "INLINED_IN_TREE",
       "results": null,
       "showCommandTitle": false,
       "startTime": 0,
       "state": "input",
       "streamStates": {},
       "subcommandOptions": {
        "queryPlan": {
         "groups": [
          {
           "column": "Date",
           "type": "column"
          }
         ],
         "selects": [
          {
           "column": "Date",
           "type": "column"
          },
          {
           "alias": "column_20467c69189",
           "args": [
            {
             "column": "Demand",
             "type": "column"
            }
           ],
           "function": "SUM",
           "type": "function"
          },
          {
           "alias": "column_20467c69192",
           "args": [
            {
             "column": "Demand_Forecast",
             "type": "column"
            }
           ],
           "function": "SUM",
           "type": "function"
          }
         ]
        }
       },
       "submitTime": 0,
       "subtype": "tableResultSubCmd.visualization",
       "tableResultIndex": 0,
       "tableResultSettingsMap": {},
       "useConsistentColors": false,
       "version": "CommandV1",
       "width": "auto",
       "workflows": null,
       "xColumns": null,
       "yColumns": null
      }
     },
     "output_type": "display_data"
    }
   ],
   "source": [
    "%sql\n",
    "WITH input_data AS (\n",
    "  SELECT Date, Demand, SKU FROM ${catalogName}.${dbName}.part_level_demand\n",
    "  WHERE SKU = (SELECT SKU FROM ${catalogName}.${dbName}.part_level_demand LIMIT 1) \n",
    "  AND Date <= (SELECT DATE_ADD(MIN(Date), 365*2) FROM ${catalogName}.${dbName}.part_level_demand)\n",
    ")\n",
    "SELECT forecast.Date, forecast.SKU, Demand, Demand_Forecast FROM AI_FORECAST(\n",
    "    TABLE(input_data),\n",
    "    horizon => DATE_ADD(DAY, 40, (SELECT MAX(Date) FROM ${catalogName}.${dbName}.part_level_demand)) ,\n",
    "    time_col => 'Date',\n",
    "    value_col => 'Demand',\n",
    "    group_col => 'SKU',\n",
    "    frequency => 'week',\n",
    "    parameters => '{ \"global_floor\": 0, \"yearly_order\": 12 }'\n",
    ") AS forecast\n",
    "LEFT JOIN ${catalogName}.${dbName}.part_level_demand AS demand\n",
    "ON forecast.Date = Demand.Date AND forecast.SKU = demand.SKU \n",
    "ORDER BY Date ASC"
   ]
  },
  {
   "cell_type": "markdown",
   "metadata": {
    "application/vnd.databricks.v1+cell": {
     "cellMetadata": {},
     "inputWidgets": {},
     "nuid": "6488f8a2-8638-477b-826f-adebf14255b6",
     "showTitle": false,
     "tableResultSettingsMap": {},
     "title": ""
    }
   },
   "source": [
    "## Make demand forecasts using AI_Forecast() function\n",
    "\n",
    "Apply the `AI_Forecast()` function to our whole dataset to generate demand forecasts for the next 40 days and store the results into a delta table."
   ]
  },
  {
   "cell_type": "code",
   "execution_count": 0,
   "metadata": {
    "application/vnd.databricks.v1+cell": {
     "cellMetadata": {
      "byteLimit": 2048000,
      "rowLimit": 10000
     },
     "inputWidgets": {},
     "nuid": "651a684e-da2f-4183-97c3-4fa9bd57d558",
     "showTitle": false,
     "tableResultSettingsMap": {},
     "title": ""
    }
   },
   "outputs": [],
   "source": [
    "%sql\n",
    "CREATE OR REPLACE TABLE ${catalogName}.${dbName}.part_level_demand_forecasts AS (\n",
    "SELECT forecast.Date, forecast.SKU, demand.Product, forecast.Demand_Forecast AS Demand, TRUE AS is_forecast FROM AI_FORECAST(\n",
    "    TABLE(SELECT Date, Demand, SKU FROM ${catalogName}.${dbName}.part_level_demand),\n",
    "    horizon => DATE_ADD(DAY, 90, (SELECT MAX(Date) FROM ${catalogName}.${dbName}.part_level_demand)),\n",
    "    time_col => 'Date',\n",
    "    value_col => 'Demand',\n",
    "    group_col => 'SKU',\n",
    "    frequency => 'week',\n",
    "    parameters => '{ \"global_floor\": 0, \"yearly_order\": 12 }'\n",
    ") as forecast\n",
    "LEFT JOIN (SELECT DISTINCT SKU, Product FROM ${catalogName}.${dbName}.part_level_demand) AS demand\n",
    "ON forecast.SKU = demand.SKU\n",
    "UNION ALL \n",
    "SELECT Date, SKU, Product, Demand, FALSE as is_forecast FROM ${catalogName}.${dbName}.part_level_demand\n",
    "ORDER BY SKU, Date\n",
    ")\n",
    "\n"
   ]
  },
  {
   "cell_type": "code",
   "execution_count": 0,
   "metadata": {
    "application/vnd.databricks.v1+cell": {
     "cellMetadata": {
      "byteLimit": 2048000,
      "rowLimit": 10000
     },
     "inputWidgets": {},
     "nuid": "d41b94d4-3e27-40e5-9d14-cd405b32db02",
     "showTitle": false,
     "tableResultSettingsMap": {},
     "title": ""
    }
   },
   "outputs": [],
   "source": [
    "%sql\n",
    "SELECT * FROM ${catalogName}.${dbName}.part_level_demand_forecasts"
   ]
  }
 ],
 "metadata": {
  "application/vnd.databricks.v1+notebook": {
   "computePreferences": null,
   "dashboards": [],
   "environmentMetadata": null,
   "inputWidgetPreferences": null,
   "language": "python",
   "notebookMetadata": {
    "pythonIndentUnit": 2
   },
   "notebookName": "02_Fine_Grained_Demand_Forecasting_AI_Forecast",
   "widgets": {
    "catalogName": {
     "currentValue": "maxkoehler_demos",
     "nuid": "0e498a46-9745-49a8-b4df-cf6e9b651ab1",
     "typedWidgetInfo": {
      "autoCreated": false,
      "defaultValue": "maxkoehler_demos",
      "label": "Catalog Name",
      "name": "catalogName",
      "options": {
       "widgetDisplayType": "Text",
       "validationRegex": null
      },
      "parameterDataType": "String"
     },
     "widgetInfo": {
      "widgetType": "text",
      "defaultValue": "maxkoehler_demos",
      "label": "Catalog Name",
      "name": "catalogName",
      "options": {
       "widgetType": "text",
       "autoCreated": false,
       "validationRegex": null
      }
     }
    },
    "dbName": {
     "currentValue": "demand_db",
     "nuid": "f71a5129-0151-44f9-8cf7-d6428fed01c3",
     "typedWidgetInfo": {
      "autoCreated": false,
      "defaultValue": "demand_db",
      "label": "Database Name",
      "name": "dbName",
      "options": {
       "widgetDisplayType": "Text",
       "validationRegex": null
      },
      "parameterDataType": "String"
     },
     "widgetInfo": {
      "widgetType": "text",
      "defaultValue": "demand_db",
      "label": "Database Name",
      "name": "dbName",
      "options": {
       "widgetType": "text",
       "autoCreated": false,
       "validationRegex": null
      }
     }
    },
    "reset_all_data": {
     "currentValue": "false",
     "nuid": "9e183d2c-2379-4a44-91a5-b35afe54b8f0",
     "typedWidgetInfo": {
      "autoCreated": false,
      "defaultValue": "false",
      "label": "Reset all data",
      "name": "reset_all_data",
      "options": {
       "widgetDisplayType": "Dropdown",
       "choices": [
        "true",
        "false"
       ],
       "fixedDomain": true,
       "multiselect": false
      },
      "parameterDataType": "String"
     },
     "widgetInfo": {
      "widgetType": "dropdown",
      "defaultValue": "false",
      "label": "Reset all data",
      "name": "reset_all_data",
      "options": {
       "widgetType": "dropdown",
       "autoCreated": false,
       "choices": [
        "true",
        "false"
       ]
      }
     }
    }
   }
  },
  "language_info": {
   "name": "python"
  }
 },
 "nbformat": 4,
 "nbformat_minor": 0
}
