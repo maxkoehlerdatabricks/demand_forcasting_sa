{
 "cells": [
  {
   "cell_type": "markdown",
   "metadata": {
    "application/vnd.databricks.v1+cell": {
     "cellMetadata": {},
     "inputWidgets": {},
     "nuid": "4acb0de4-df10-4a2e-b3c5-2ed3804033d1",
     "showTitle": false,
     "tableResultSettingsMap": {},
     "title": ""
    }
   },
   "source": [
    "# Environment"
   ]
  },
  {
   "cell_type": "code",
   "execution_count": 0,
   "metadata": {
    "application/vnd.databricks.v1+cell": {
     "cellMetadata": {
      "byteLimit": 2048000,
      "rowLimit": 10000
     },
     "inputWidgets": {},
     "nuid": "75bc6a6a-e488-4ff7-b05c-70b51acde14b",
     "showTitle": false,
     "tableResultSettingsMap": {},
     "title": ""
    }
   },
   "outputs": [],
   "source": [
    "dbutils.widgets.text('catalogName',  'maxkoehler_demos' , 'Catalog Name')\n",
    "dbutils.widgets.text('dbName',  'demand_db' , 'Database Name')"
   ]
  },
  {
   "cell_type": "code",
   "execution_count": 0,
   "metadata": {
    "application/vnd.databricks.v1+cell": {
     "cellMetadata": {
      "byteLimit": 2048000,
      "rowLimit": 10000
     },
     "inputWidgets": {},
     "nuid": "9e33a704-5ef6-429c-9b79-7fb94ac9dbf9",
     "showTitle": false,
     "tableResultSettingsMap": {},
     "title": ""
    }
   },
   "outputs": [],
   "source": [
    "catalogName = dbutils.widgets.get('catalogName')\n",
    "dbName = dbutils.widgets.get('dbName')"
   ]
  },
  {
   "cell_type": "code",
   "execution_count": 0,
   "metadata": {
    "application/vnd.databricks.v1+cell": {
     "cellMetadata": {
      "byteLimit": 2048000,
      "rowLimit": 10000
     },
     "inputWidgets": {},
     "nuid": "829f8b67-d8ec-4902-b21f-6ec67f99567d",
     "showTitle": false,
     "tableResultSettingsMap": {},
     "title": ""
    }
   },
   "outputs": [],
   "source": [
    "spark.sql(f\"USE CATALOG {catalogName}\")\n",
    "spark.sql(f\"USE {dbName}\")"
   ]
  },
  {
   "cell_type": "code",
   "execution_count": 0,
   "metadata": {
    "application/vnd.databricks.v1+cell": {
     "cellMetadata": {
      "byteLimit": 2048000,
      "rowLimit": 10000
     },
     "inputWidgets": {},
     "nuid": "1a03de18-6dda-4047-bb5c-7f529937812f",
     "showTitle": false,
     "tableResultSettingsMap": {},
     "title": ""
    }
   },
   "outputs": [],
   "source": [
    "demand_df = spark.read.table(f\"part_level_demand\")\n",
    "display(demand_df)"
   ]
  },
  {
   "cell_type": "markdown",
   "metadata": {
    "application/vnd.databricks.v1+cell": {
     "cellMetadata": {},
     "inputWidgets": {},
     "nuid": "edc290f0-0d26-48dd-af79-0d7b9cc61a1f",
     "showTitle": false,
     "tableResultSettingsMap": {},
     "title": ""
    }
   },
   "source": [
    "## 1. Try - Forecast demand without any data prep\n",
    "- first try was with all models using the UI, stopped after approx 10 minutes, lloking for a short try, later noted that the trainng didn't aven start, just waiting for resources\n",
    "- Then I tried Photon only, after startting resources it immediately stopped, need weekly frequency, I took the day of the monday of the week. This means that I need to change data simulation code. I will change other things as this can be done on the fly 1.) Less series, 2.) Time must be weeks, 3.) Update times 4.) No breakpoints"
   ]
  },
  {
   "cell_type": "markdown",
   "metadata": {
    "application/vnd.databricks.v1+cell": {
     "cellMetadata": {},
     "inputWidgets": {},
     "nuid": "f7853065-6f2a-473e-9b06-a21ec978dff2",
     "showTitle": false,
     "tableResultSettingsMap": {},
     "title": ""
    }
   },
   "source": []
  }
 ],
 "metadata": {
  "application/vnd.databricks.v1+notebook": {
   "computePreferences": null,
   "dashboards": [],
   "environmentMetadata": {
    "base_environment": "",
    "environment_version": "2"
   },
   "inputWidgetPreferences": null,
   "language": "python",
   "notebookMetadata": {
    "pythonIndentUnit": 2
   },
   "notebookName": "automl_dev",
   "widgets": {
    "catalogName": {
     "currentValue": "maxkoehler_demos",
     "nuid": "7e0838d5-74bf-4de8-b944-bf9bebeb0afc",
     "typedWidgetInfo": {
      "autoCreated": false,
      "defaultValue": "maxkoehler_demos",
      "label": "Catalog Name",
      "name": "catalogName",
      "options": {
       "widgetDisplayType": "Text",
       "validationRegex": null
      },
      "parameterDataType": "String"
     },
     "widgetInfo": {
      "widgetType": "text",
      "defaultValue": "maxkoehler_demos",
      "label": "Catalog Name",
      "name": "catalogName",
      "options": {
       "widgetType": "text",
       "autoCreated": false,
       "validationRegex": null
      }
     }
    },
    "dbName": {
     "currentValue": "demand_db",
     "nuid": "a7816cbd-6f34-490e-9aeb-058e6f26f9c1",
     "typedWidgetInfo": {
      "autoCreated": false,
      "defaultValue": "demand_db",
      "label": "Database Name",
      "name": "dbName",
      "options": {
       "widgetDisplayType": "Text",
       "validationRegex": null
      },
      "parameterDataType": "String"
     },
     "widgetInfo": {
      "widgetType": "text",
      "defaultValue": "demand_db",
      "label": "Database Name",
      "name": "dbName",
      "options": {
       "widgetType": "text",
       "autoCreated": false,
       "validationRegex": null
      }
     }
    }
   }
  },
  "language_info": {
   "name": "python"
  }
 },
 "nbformat": 4,
 "nbformat_minor": 0
}
